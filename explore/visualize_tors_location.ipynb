{
 "cells": [
  {
   "cell_type": "code",
   "execution_count": null,
   "metadata": {},
   "outputs": [],
   "source": [
    "import networkx as nx\n",
    "import json"
   ]
  },
  {
   "cell_type": "code",
   "execution_count": null,
   "metadata": {},
   "outputs": [],
   "source": [
    "with open(\"../tors_instances/1b/carrousel_arrival_hard_0t_50n_3b_20g_0.0r_location.json\") as f:\n",
    "    location = json.load(f)\n",
    "\n",
    "G = nx.Graph()\n",
    "for track in location[\"trackParts\"]:\n",
    "    G.add_node(track[\"id\"], name=track[\"name\"], type=track[\"type\"])\n",
    "    if track[\"type\"] == \"Switch\":\n",
    "        G.nodes[track[\"id\"]][\"aSide\"] = track[\"aSide\"]\n",
    "        G.nodes[track[\"id\"]][\"bSide\"] = track[\"bSide\"]\n",
    "    for neighbor in track[\"aSide\"]:\n",
    "        G.add_edge(track[\"id\"], neighbor, side=\"a\")\n",
    "    for neighbor in track[\"bSide\"]:\n",
    "        G.add_edge(track[\"id\"], neighbor, side=\"b\")\n"
   ]
  },
  {
   "cell_type": "code",
   "execution_count": null,
   "metadata": {},
   "outputs": [],
   "source": [
    "names = nx.get_node_attributes(G, \"name\")\n",
    "types = nx.get_node_attributes(G, \"type\")\n",
    "aSide = nx.get_node_attributes(G, \"aSide\")\n",
    "bSide = nx.get_node_attributes(G, \"bSide\")\n",
    "labels = {node: f\"{node}\\n{types[node]}\\nA: {aSide.get(node, '')}\\nB: {bSide.get(node, '')}\" for node in G.nodes}"
   ]
  },
  {
   "cell_type": "code",
   "execution_count": null,
   "metadata": {},
   "outputs": [],
   "source": [
    "# Draw with kamada_kawai_layout and edge labels\n",
    "pos = nx.kamada_kawai_layout(G)\n",
    "nx.draw(G, pos, labels=labels, font_size=6, node_size=200, font_color=\"black\", node_color=\"lightgrey\")\n",
    "# nx.draw_networkx_edge_labels(G, pos, edge_labels=nx.get_edge_attributes(G, \"side\"))"
   ]
  }
 ],
 "metadata": {
  "kernelspec": {
   "display_name": "tors-instance-generator",
   "language": "python",
   "name": "python3"
  },
  "language_info": {
   "codemirror_mode": {
    "name": "ipython",
    "version": 3
   },
   "file_extension": ".py",
   "mimetype": "text/x-python",
   "name": "python",
   "nbconvert_exporter": "python",
   "pygments_lexer": "ipython3",
   "version": "3.11.3"
  },
  "orig_nbformat": 4
 },
 "nbformat": 4,
 "nbformat_minor": 2
}
